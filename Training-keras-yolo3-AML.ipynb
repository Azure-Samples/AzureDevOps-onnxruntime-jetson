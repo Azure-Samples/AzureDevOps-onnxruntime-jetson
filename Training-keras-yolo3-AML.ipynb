{
 "cells": [
  {
   "cell_type": "markdown",
   "metadata": {
    "nteract": {
     "transient": {
      "deleting": false
     }
    }
   },
   "source": [
    "### Download the model weights from original Darket's release"
   ]
  },
  {
   "cell_type": "markdown",
   "metadata": {
    "nteract": {
     "transient": {
      "deleting": false
     }
    }
   },
   "source": [
    "# TODO:\n",
    "1. remove hardcoded filenames from `train_aml.py` and `train.py`\n",
    "2. cleanup `model_data` folder to reduce size\n",
    "3. upload `*.weights` to model registry to reduce size for aml/staging"
   ]
  },
  {
   "cell_type": "code",
   "execution_count": null,
   "metadata": {
    "gather": {
     "logged": 1600453319436
    }
   },
   "outputs": [],
   "source": [
    "# setting the model variables\n",
    "import os\n",
    "import urllib.request\n",
    "\n",
    "os.makedirs('model_data', exist_ok=True)\n",
    "\n",
    "yolo3_weights_filename ='model_data/yolov3-tiny.weights' # remove this from model_data after the keras conversion\n",
    "yolo3_config = 'keras-yolo3/yolov3-tiny.cfg'\n",
    "model_url = 'https://pjreddie.com/media/files/yolov3-tiny.weights'"
   ]
  },
  {
   "cell_type": "code",
   "execution_count": null,
   "metadata": {
    "gather": {
     "logged": 1600438852528
    },
    "jupyter": {
     "outputs_hidden": false,
     "source_hidden": false
    },
    "nteract": {
     "transient": {
      "deleting": false
     }
    }
   },
   "outputs": [],
   "source": [
    "# download the model weights\n",
    "urllib.request.urlretrieve(model_url, yolo3_weights_filename)"
   ]
  },
  {
   "cell_type": "markdown",
   "metadata": {
    "nteract": {
     "transient": {
      "deleting": false
     }
    }
   },
   "source": [
    "## Install dependent packages"
   ]
  },
  {
   "cell_type": "code",
   "execution_count": null,
   "metadata": {
    "collapsed": true,
    "gather": {
     "logged": 1600438876968
    },
    "jupyter": {
     "outputs_hidden": false,
     "source_hidden": false
    },
    "nteract": {
     "transient": {
      "deleting": false
     }
    }
   },
   "outputs": [],
   "source": [
    "!pip uninstall -y azureml-automl-runtime azureml-train-automl-runtime\n",
    "!pip install -U keras==2.2.4 tensorflow==1.14.0 tensorflow-gpu==1.14.0 pillow matplotlib h5py==2.10.0 tensorboard azureml-sdk==1.13.0 onnxruntime==1.4.0 onnx==1.7.0 azureml-widgets azureml-tensorboard azureml-opendatasets azureml-mlflow azureml-defaults azureml-contrib-services azureml-contrib-interpret\n",
    "\n",
    "!pip install -U git+git://github.com/microsoft/onnxconverter-common.git@3451bbffe61a2591a17f4d99a405b48e9ae8e395\n",
    "!pip install -U git+git://github.com/onnx/keras-onnx.git@ff17787c393e2ce34d43185447d7354525f3ba87"
   ]
  },
  {
   "cell_type": "markdown",
   "metadata": {
    "nteract": {
     "transient": {
      "deleting": false
     }
    }
   },
   "source": [
    "### Convert the Darket model to Keras"
   ]
  },
  {
   "cell_type": "code",
   "execution_count": null,
   "metadata": {
    "collapsed": true,
    "gather": {
     "logged": 1600438885967
    },
    "jupyter": {
     "outputs_hidden": false,
     "source_hidden": false
    },
    "nteract": {
     "transient": {
      "deleting": false
     }
    }
   },
   "outputs": [],
   "source": [
    "yolo3_keras_model = 'model_data/tiny_yolo_weights.h5' # Converted from the Darknet weights. Need to pass this as parameter to train.py\n",
    "\n",
    "# execute the pre-built conversion script provided in the sample\n",
    "!python3 keras-yolo3/convert.py $yolo3_config $yolo3_weights_filename $yolo3_keras_model"
   ]
  },
  {
   "cell_type": "markdown",
   "metadata": {
    "nteract": {
     "transient": {
      "deleting": false
     }
    }
   },
   "source": [
    "### Training data\n",
    "This sample uses the [VOC Pascal dataset](http://host.robots.ox.ac.uk/pascal/VOC/voc2007/#devkit) referred to as _VOCDevkit_.\n",
    "\n",
    "To generate your own annotation file and class names file.\n",
    "\n",
    "- One row for one image;  \n",
    "- Row format: `image_file_path box1 box2 ... boxN`;  \n",
    "- Box format: `x_min,y_min,x_max,y_max,class_id` (no space).  \n",
    "- For VOC dataset, try `python voc_annotation.py`  \n",
    "Here is an example:\n",
    "\n",
    "        ```\n",
    "        path/to/img1.jpg 50,100,150,200,0 30,50,200,120,3\n",
    "        path/to/img2.jpg 120,300,250,600,2\n",
    "        ...\n",
    "        ```"
   ]
  },
  {
   "cell_type": "code",
   "execution_count": null,
   "metadata": {
    "collapsed": true,
    "gather": {
     "logged": 1600458068556
    },
    "jupyter": {
     "outputs_hidden": false,
     "source_hidden": false
    },
    "nteract": {
     "transient": {
      "deleting": false
     }
    }
   },
   "outputs": [],
   "source": [
    "# setup the folder for the training dataset\n",
    "\n",
    "import os\n",
    "\n",
    "dataset_folder = '/mnt/tmp/'\n",
    "os.makedirs(dataset_folder, exist_ok=True)\n",
    "\n",
    "dataset_filename = dataset_folder + 'VOCtrainval2007.tar'\n",
    "optional_dataset_filename = dataset_folder + 'VOCtest2007.tar'"
   ]
  },
  {
   "cell_type": "code",
   "execution_count": null,
   "metadata": {
    "collapsed": true,
    "gather": {
     "logged": 1600458252336
    },
    "jupyter": {
     "outputs_hidden": false,
     "source_hidden": false
    },
    "nteract": {
     "transient": {
      "deleting": false
     }
    }
   },
   "outputs": [],
   "source": [
    "dataset_url = 'http://host.robots.ox.ac.uk/pascal/VOC/voc2007/VOCtrainval_06-Nov-2007.tar'\n",
    "urllib.request.urlretrieve(dataset_url, dataset_filename)"
   ]
  },
  {
   "cell_type": "code",
   "execution_count": null,
   "metadata": {
    "collapsed": true,
    "gather": {
     "logged": 1600458304224
    },
    "jupyter": {
     "outputs_hidden": false,
     "source_hidden": false
    },
    "nteract": {
     "transient": {
      "deleting": false
     }
    }
   },
   "outputs": [],
   "source": [
    "optional_dataset_url = 'http://host.robots.ox.ac.uk/pascal/VOC/voc2007/VOCtest_06-Nov-2007.tar'\n",
    "urllib.request.urlretrieve(optional_dataset_url, optional_dataset_filename)"
   ]
  },
  {
   "cell_type": "markdown",
   "metadata": {
    "nteract": {
     "transient": {
      "deleting": false
     }
    }
   },
   "source": [
    "Unpack the dataset and prepare to upload to Datastore in AML.\n",
    "\n",
    "_This step will take a few minutes._"
   ]
  },
  {
   "cell_type": "code",
   "execution_count": null,
   "metadata": {
    "collapsed": true,
    "gather": {
     "logged": 1600312612293
    },
    "jupyter": {
     "outputs_hidden": false,
     "source_hidden": false
    },
    "nteract": {
     "transient": {
      "deleting": false
     }
    }
   },
   "outputs": [],
   "source": [
    "! tar xf $dataset_filename -C $dataset_folder\n",
    "! tar xf $optional_dataset_filename -C $dataset_folder"
   ]
  },
  {
   "cell_type": "markdown",
   "metadata": {
    "nteract": {
     "transient": {
      "deleting": false
     }
    }
   },
   "source": [
    "Convert VOC-style dataset to YOLO-style dataset"
   ]
  },
  {
   "cell_type": "code",
   "execution_count": null,
   "metadata": {
    "collapsed": true,
    "jupyter": {
     "outputs_hidden": false,
     "source_hidden": false
    },
    "nteract": {
     "transient": {
      "deleting": false
     }
    }
   },
   "outputs": [],
   "source": [
    "! python src/voc_annotation.py"
   ]
  },
  {
   "cell_type": "markdown",
   "metadata": {},
   "source": [
    "Fill in the variables with your config values found on your Azure Portal Workspace."
   ]
  },
  {
   "cell_type": "code",
   "execution_count": null,
   "metadata": {
    "collapsed": true,
    "jupyter": {
     "outputs_hidden": false,
     "source_hidden": false
    },
    "nteract": {
     "transient": {
      "deleting": false
     }
    }
   },
   "outputs": [],
   "source": [
    "%%writefile config.json\n",
    "{\n",
    "    \"workspace_name\": \"\",\n",
    "    \"subscription_id\": \"\",\n",
    "    \"resource_group\": \"\",\n",
    "    \"location\": \"\"\n",
    "}"
   ]
  },
  {
   "cell_type": "code",
   "execution_count": null,
   "metadata": {
    "collapsed": true,
    "gather": {
     "logged": 1600453343447
    },
    "jupyter": {
     "outputs_hidden": false,
     "source_hidden": false
    },
    "nteract": {
     "transient": {
      "deleting": false
     }
    }
   },
   "outputs": [],
   "source": [
    "#Initialize Workspace \n",
    "from azureml.core import Workspace\n",
    "\n",
    "## existing AML Workspace in config.json\n",
    "ws = Workspace.from_config()\n",
    "print(ws.name, ws.resource_group, ws.location, ws.subscription_id, sep = '\\n')\n",
    "\n",
    "def_blob_store = ws.get_default_datastore()"
   ]
  },
  {
   "cell_type": "markdown",
   "metadata": {
    "nteract": {
     "transient": {
      "deleting": false
     }
    }
   },
   "source": [
    "#### OR create a new workspace with the following steps\n",
    "\n",
    "```\n",
    "from azureml.core import Workspace\n",
    "\n",
    "### Change this cell from markdown to code and run this if you need to create a workspace \n",
    "### Update the values for your workspace below\n",
    "ws=Workspace.create(subscription_id=\"<subscription-id goes here>\",\n",
    "                resource_group=\"<resource group goes here>\",\n",
    "                name=\"<name of the AML workspace>\",\n",
    "                location=\"<location>\")\n",
    "                \n",
    "ws.write_config()\n",
    "```"
   ]
  },
  {
   "cell_type": "markdown",
   "metadata": {
    "nteract": {
     "transient": {
      "deleting": false
     }
    }
   },
   "source": [
    "Upload the VOCdevkit to the workspace datastore"
   ]
  },
  {
   "cell_type": "code",
   "execution_count": null,
   "metadata": {
    "collapsed": true,
    "gather": {
     "logged": 1600399936180
    },
    "jupyter": {
     "outputs_hidden": false,
     "source_hidden": false
    },
    "nteract": {
     "transient": {
      "deleting": false
     }
    }
   },
   "outputs": [],
   "source": [
    "def_blob_store.upload(dataset_folder + \"/VOCdevkit\", target_path=\"/data/VOCdevkit\", show_progress=False)"
   ]
  },
  {
   "cell_type": "code",
   "execution_count": null,
   "metadata": {
    "collapsed": true,
    "gather": {
     "logged": 1600453360167
    },
    "jupyter": {
     "outputs_hidden": false,
     "source_hidden": false
    },
    "nteract": {
     "transient": {
      "deleting": false
     }
    }
   },
   "outputs": [],
   "source": [
    "from azureml.data.data_reference import DataReference\n",
    "from azureml.core import Dataset\n",
    "\n",
    "training_dataset = Dataset.File.from_files(path=(def_blob_store, '/data/VOCdevkit'))"
   ]
  },
  {
   "cell_type": "markdown",
   "metadata": {
    "nteract": {
     "transient": {
      "deleting": false
     }
    }
   },
   "source": [
    "### Train the Keras model."
   ]
  },
  {
   "cell_type": "code",
   "execution_count": null,
   "metadata": {
    "collapsed": true,
    "gather": {
     "logged": 1600454043618
    },
    "jupyter": {
     "outputs_hidden": false,
     "source_hidden": false
    },
    "nteract": {
     "transient": {
      "deleting": false
     }
    }
   },
   "outputs": [],
   "source": [
    "import os\n",
    "import shutil\n",
    "import glob\n",
    "\n",
    "#set the project folder\n",
    "PROJECT_FOLDER = \"./aml/staging\"\n",
    "if os.path.exists(PROJECT_FOLDER):\n",
    "    shutil.rmtree(PROJECT_FOLDER)\n",
    "\n",
    "os.makedirs(PROJECT_FOLDER, exist_ok=True)\n",
    "\n",
    "# copy all pythfrom keras-yolo3 repoject folder\n",
    "files = glob.glob(\"keras-yolo3/*.py\")\n",
    "for f in files:\n",
    "    shutil.copy(f, PROJECT_FOLDER)\n",
    "\n",
    "# copy all config files to the project folder\n",
    "files = glob.glob(\"keras-yolo3/*.cfg\")\n",
    "for f in files:\n",
    "    shutil.copy(f, PROJECT_FOLDER)\n",
    "\n",
    "# copy all text files to the project folder\n",
    "files = glob.glob(\"keras-yolo3/*.txt\")\n",
    "for f in files:\n",
    "    shutil.copy(f, PROJECT_FOLDER)\n",
    "\n",
    "# copy all python scripts to project folder\n",
    "files = glob.glob(\"src/*.py\")\n",
    "for f in files:\n",
    "    shutil.copy(f, PROJECT_FOLDER)"
   ]
  },
  {
   "cell_type": "code",
   "execution_count": null,
   "metadata": {
    "collapsed": true,
    "gather": {
     "logged": 1600454044432
    },
    "jupyter": {
     "outputs_hidden": false,
     "source_hidden": false
    },
    "nteract": {
     "transient": {
      "deleting": false
     }
    }
   },
   "outputs": [],
   "source": [
    "! cp -rf keras-yolo3/model_data $PROJECT_FOLDER # copy the dataset under the project folder\n",
    "\n",
    "! cp -rf keras-yolo3/yolo3 $PROJECT_FOLDER # copy the model files under the project fold er"
   ]
  },
  {
   "cell_type": "code",
   "execution_count": null,
   "metadata": {
    "gather": {
     "logged": 1600454051089
    }
   },
   "outputs": [],
   "source": [
    "# copy the Keras model files to PROJECT FOLDER\n",
    "files = glob.glob(\"model_data/*.*\")\n",
    "for f in files:\n",
    "    shutil.copy(f, PROJECT_FOLDER + '/model_data')"
   ]
  },
  {
   "cell_type": "markdown",
   "metadata": {
    "nteract": {
     "transient": {
      "deleting": false
     }
    }
   },
   "source": [
    "Add the optional packages and setup the training environment"
   ]
  },
  {
   "cell_type": "code",
   "execution_count": null,
   "metadata": {
    "collapsed": true,
    "gather": {
     "logged": 1600453377049
    },
    "jupyter": {
     "outputs_hidden": false,
     "source_hidden": false
    },
    "nteract": {
     "transient": {
      "deleting": false
     }
    }
   },
   "outputs": [],
   "source": [
    "from azureml.core import Environment\n",
    "from azureml.core.conda_dependencies import CondaDependencies\n",
    "from azureml.core.runconfig import DEFAULT_GPU_IMAGE\n",
    "\n",
    "cd = CondaDependencies.create(pip_packages=['keras==2.1.5', 'tensorflow==1.6.0', 'pillow', 'matplotlib', 'h5py', 'tensorboard'], conda_packages=['python=3.6.11'])\n",
    "myenv = Environment(\"yolov3\")\n",
    "myenv.python.conda_dependencies = cd\n",
    "myenv.python.conda_dependencies.add_pip_package(\"azureml-sdk\")\n",
    "myenv.python.conda_dependencies.add_channel(\"conda-forge\")\n",
    "myenv.docker.enabled = True\n",
    "myenv.docker.base_image = DEFAULT_GPU_IMAGE"
   ]
  },
  {
   "cell_type": "markdown",
   "metadata": {
    "nteract": {
     "transient": {
      "deleting": false
     }
    }
   },
   "source": [
    "Setup the training compute"
   ]
  },
  {
   "cell_type": "code",
   "execution_count": null,
   "metadata": {
    "collapsed": true,
    "gather": {
     "logged": 1600453382676
    },
    "jupyter": {
     "outputs_hidden": false,
     "source_hidden": false
    },
    "nteract": {
     "transient": {
      "deleting": false
     }
    }
   },
   "outputs": [],
   "source": [
    "from azureml.core.compute import ComputeTarget, AmlCompute\n",
    "from azureml.core.compute_target import ComputeTargetException\n",
    "\n",
    "# Choose a name for my cluster\n",
    "CLUSTER_NAME=\"gpu-training\"\n",
    "\n",
    "# Verify that cluster does not exist already\n",
    "try:\n",
    "    aml_cluster = AmlCompute(workspace=ws, name=CLUSTER_NAME)\n",
    "    print(\"Found existing cluster, use it.\")\n",
    "except ComputeTargetException:\n",
    "    print(\"provisioning new compute target\")\n",
    "    compute_config = AmlCompute.provisioning_configuration(\n",
    "        vm_size=\"STANDARD_NC6\", max_nodes=8, vm_priority=\"lowpriority\", idle_seconds_before_scaledown=1800\n",
    "    )\n",
    "    aml_cluster = ComputeTarget.create(ws, CLUSTER_NAME, compute_config)\n",
    "\n",
    "aml_cluster.wait_for_completion(show_output=True)\n"
   ]
  },
  {
   "cell_type": "markdown",
   "metadata": {
    "nteract": {
     "transient": {
      "deleting": false
     }
    }
   },
   "source": [
    "Define the run config for the experiment"
   ]
  },
  {
   "cell_type": "code",
   "execution_count": null,
   "metadata": {
    "collapsed": true,
    "gather": {
     "logged": 1600453391623
    },
    "jupyter": {
     "outputs_hidden": false,
     "source_hidden": false
    },
    "nteract": {
     "transient": {
      "deleting": false
     }
    }
   },
   "outputs": [],
   "source": [
    "from azureml.core import ScriptRunConfig\n",
    "\n",
    "src = ScriptRunConfig(\n",
    "    source_directory=PROJECT_FOLDER,\n",
    "    script='train_aml.py',\n",
    "    arguments=[\"--data\", training_dataset.as_named_input('input').as_mount()],\n",
    "    )\n",
    "\n",
    "src.run_config.framework = 'python'\n",
    "src.run_config.target = aml_cluster.name\n",
    "\n",
    "# Set environment\n",
    "src.run_config.environment = myenv"
   ]
  },
  {
   "cell_type": "markdown",
   "metadata": {
    "nteract": {
     "transient": {
      "deleting": false
     }
    }
   },
   "source": [
    "Run the training experiment"
   ]
  },
  {
   "cell_type": "code",
   "execution_count": null,
   "metadata": {
    "collapsed": true,
    "gather": {
     "logged": 1600454064743
    },
    "jupyter": {
     "outputs_hidden": false,
     "source_hidden": false
    },
    "nteract": {
     "transient": {
      "deleting": false
     }
    }
   },
   "outputs": [],
   "source": [
    "from azureml.core import Experiment\n",
    "\n",
    "EXPERIMENT_NAME = \"keras-yolo3\"\n",
    "\n",
    "experiment = Experiment(workspace=ws, name=EXPERIMENT_NAME)\n",
    "\n",
    "run = experiment.submit(config=src)"
   ]
  },
  {
   "cell_type": "code",
   "execution_count": null,
   "metadata": {
    "collapsed": true,
    "jupyter": {
     "outputs_hidden": false,
     "source_hidden": false
    },
    "nteract": {
     "transient": {
      "deleting": false
     }
    }
   },
   "outputs": [],
   "source": [
    "%%time\n",
    "\n",
    "run.wait_for_completion(show_output=True)"
   ]
  },
  {
   "cell_type": "code",
   "execution_count": null,
   "metadata": {
    "collapsed": true,
    "gather": {
     "logged": 1600458032907
    },
    "jupyter": {
     "outputs_hidden": false,
     "source_hidden": false
    },
    "nteract": {
     "transient": {
      "deleting": false
     }
    }
   },
   "outputs": [],
   "source": [
    "# register the model in the model registry\n",
    "\n",
    "my_trained_model = 'tiny_yolov3'\n",
    "\n",
    "from azureml.core import Model\n",
    "model = Model(ws, my_trained_model)\n",
    "\n",
    "# download  trained model\n",
    "model.download(target_dir='model_data', exist_ok=True)"
   ]
  },
  {
   "cell_type": "markdown",
   "metadata": {
    "nteract": {
     "transient": {
      "deleting": false
     }
    }
   },
   "source": [
    "### Convert the model to ONNX and register in the model registry"
   ]
  },
  {
   "cell_type": "code",
   "execution_count": null,
   "metadata": {
    "collapsed": true,
    "gather": {
     "logged": 1600459089098
    },
    "jupyter": {
     "outputs_hidden": false,
     "source_hidden": false
    },
    "nteract": {
     "transient": {
      "deleting": false
     }
    }
   },
   "outputs": [],
   "source": [
    "trained_model_path=\"model_data/trained_weights_final.h5\" # make sure this name matches the downloaded file is the previous step\n",
    "test_image=\"media/000004.jpg\"\n",
    "anchors_path=\"model_data/tiny_yolo_anchors.txt\"\n",
    "classes_path=\"model_data/voc_classes.txt\"\n",
    "onnx_model_file=\"model_data/new_yolo.onnx\"\n",
    "\n",
    "!python ./src/convert2onnx.py \\\n",
    "    --model_path $trained_model_path \\\n",
    "    --test_image $test_image \\\n",
    "    --anchors_path $anchors_path \\\n",
    "    --classes_path $classes_path \\\n",
    "    --model_file_name $onnx_model_file \\\n",
    "    --overwrite"
   ]
  },
  {
   "cell_type": "markdown",
   "metadata": {
    "nteract": {
     "transient": {
      "deleting": false
     }
    }
   },
   "source": [
    "Test this ONNX Model. Refresh the repo to recognize the test image. "
   ]
  },
  {
   "cell_type": "code",
   "execution_count": null,
   "metadata": {
    "collapsed": true,
    "gather": {
     "logged": 1600459127142
    },
    "jupyter": {
     "outputs_hidden": false,
     "source_hidden": false
    },
    "nteract": {
     "transient": {
      "deleting": false
     }
    }
   },
   "outputs": [],
   "source": [
    "%matplotlib inline\n",
    "import matplotlib.pyplot as plt\n",
    "from PIL import Image\n",
    "\n",
    "image = Image.open(\"media/000004.jpg\")\n",
    "image_score = Image.open(\"media/000004_score.jpg\")\n",
    "fig, ax = plt.subplots(1,2)\n",
    "ax[0].imshow(image)\n",
    "ax[1].imshow(image_score)\n",
    "ax[0].axis('off')\n",
    "_ = ax[1].axis('off')"
   ]
  },
  {
   "cell_type": "code",
   "execution_count": null,
   "metadata": {
    "collapsed": true,
    "gather": {
     "logged": 1600441301703
    },
    "jupyter": {
     "outputs_hidden": false,
     "source_hidden": false
    },
    "nteract": {
     "transient": {
      "deleting": false
     }
    }
   },
   "outputs": [],
   "source": [
    "# Register the ONNX model in the workspace registry\n",
    "from azureml.core.model import Model\n",
    "Model.register(model_path = onnx_model_file, \n",
    "                model_name = \"TinyYOLO\", \n",
    "                workspace = ws,\n",
    "                description=\"ONNX model converted from trained Keras/Tf\")"
   ]
  },
  {
   "cell_type": "markdown",
   "metadata": {
    "nteract": {
     "transient": {
      "deleting": false
     }
    }
   },
   "source": [
    "# CLEANUP!!!"
   ]
  },
  {
   "cell_type": "markdown",
   "metadata": {
    "nteract": {
     "transient": {
      "deleting": false
     }
    }
   },
   "source": [
    "Optionally remove all the files downloaded for this exercise.\n",
    "\n",
    "```\n",
    "shutil.rmtree(PROJECT_FOLDER)\n",
    "shutil.rmtree('/tmp/VOCdevkit')\n",
    "\n",
    "files = glob.glob(\"aml\")\n",
    "for f in files:\n",
    "    os.remove(f)\n",
    "```"
   ]
  },
  {
   "cell_type": "markdown",
   "metadata": {
    "nteract": {
     "transient": {
      "deleting": false
     }
    }
   },
   "source": [
    "## FINISHED. \n",
    "Transition to the ADO to review status of the pipeline."
   ]
  }
 ],
 "metadata": {
  "kernel_info": {
   "name": "python3-azureml"
  },
  "kernelspec": {
   "display_name": "Python 3",
   "language": "python",
   "name": "python3"
  },
  "language_info": {
   "codemirror_mode": {
    "name": "ipython",
    "version": 3
   },
   "file_extension": ".py",
   "mimetype": "text/x-python",
   "name": "python",
   "nbconvert_exporter": "python",
   "pygments_lexer": "ipython3",
   "version": "3.8.3"
  },
  "nteract": {
   "version": "nteract-front-end@1.0.0"
  }
 },
 "nbformat": 4,
 "nbformat_minor": 2
}
